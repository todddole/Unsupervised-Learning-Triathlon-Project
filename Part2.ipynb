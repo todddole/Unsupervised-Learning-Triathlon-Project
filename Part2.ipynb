{
 "metadata": {
  "kernelspec": {
   "display_name": "Python 3",
   "language": "python",
   "name": "python3"
  },
  "language_info": {
   "name": "python",
   "version": "3.10.13",
   "mimetype": "text/x-python",
   "codemirror_mode": {
    "name": "ipython",
    "version": 3
   },
   "pygments_lexer": "ipython3",
   "nbconvert_exporter": "python",
   "file_extension": ".py"
  },
  "kaggle": {
   "accelerator": "none",
   "dataSources": [
    {
     "sourceId": 5470929,
     "sourceType": "datasetVersion",
     "datasetId": 3159887
    }
   ],
   "dockerImageVersionId": 30732,
   "isInternetEnabled": true,
   "language": "python",
   "sourceType": "notebook",
   "isGpuEnabled": false
  }
 },
 "nbformat_minor": 5,
 "nbformat": 4,
 "cells": [
  {
   "cell_type": "markdown",
   "source": [
    "# Triathlon Recommender System by Todd Dole\n",
    "\n",
    "Triathlon Recommender System\n",
    "By Todd Dole\n",
    "\n",
    "# Part 2"
   ],
   "metadata": {},
   "id": "c5889f6bd2d60a8f"
  },
  {
   "cell_type": "code",
   "source": "!pip install --upgrade pandas numpy matplotlib seaborn scikit-learn nltk scipy scikit-surprise",
   "metadata": {
    "execution": {
     "iopub.status.busy": "2024-06-21T23:05:39.576541Z",
     "iopub.execute_input": "2024-06-21T23:05:39.577015Z",
     "iopub.status.idle": "2024-06-21T23:06:02.327143Z",
     "shell.execute_reply.started": "2024-06-21T23:05:39.576980Z",
     "shell.execute_reply": "2024-06-21T23:06:02.325541Z"
    },
    "trusted": true,
    "ExecuteTime": {
     "end_time": "2024-06-22T21:08:59.411269Z",
     "start_time": "2024-06-22T21:08:55.851057Z"
    }
   },
   "id": "6ea190fa6209fe3f",
   "outputs": [
    {
     "name": "stdout",
     "output_type": "stream",
     "text": [
      "Requirement already satisfied: pandas in /home/tdole/miniconda3/lib/python3.12/site-packages (2.2.2)\r\n",
      "Requirement already satisfied: numpy in /home/tdole/miniconda3/lib/python3.12/site-packages (1.26.4)\r\n",
      "Collecting numpy\r\n",
      "  Using cached numpy-2.0.0-cp312-cp312-manylinux_2_17_x86_64.manylinux2014_x86_64.whl.metadata (60 kB)\r\n",
      "Requirement already satisfied: matplotlib in /home/tdole/miniconda3/lib/python3.12/site-packages (3.9.0)\r\n",
      "Requirement already satisfied: seaborn in /home/tdole/miniconda3/lib/python3.12/site-packages (0.13.2)\r\n",
      "Requirement already satisfied: scikit-learn in /home/tdole/miniconda3/lib/python3.12/site-packages (1.5.0)\r\n",
      "Requirement already satisfied: nltk in /home/tdole/miniconda3/lib/python3.12/site-packages (3.8.1)\r\n",
      "Requirement already satisfied: scipy in /home/tdole/miniconda3/lib/python3.12/site-packages (1.13.1)\r\n",
      "Requirement already satisfied: scikit-surprise in /home/tdole/miniconda3/lib/python3.12/site-packages (1.1.4)\r\n",
      "Requirement already satisfied: python-dateutil>=2.8.2 in /home/tdole/miniconda3/lib/python3.12/site-packages (from pandas) (2.9.0.post0)\r\n",
      "Requirement already satisfied: pytz>=2020.1 in /home/tdole/miniconda3/lib/python3.12/site-packages (from pandas) (2024.1)\r\n",
      "Requirement already satisfied: tzdata>=2022.7 in /home/tdole/miniconda3/lib/python3.12/site-packages (from pandas) (2023.3)\r\n",
      "Requirement already satisfied: contourpy>=1.0.1 in /home/tdole/miniconda3/lib/python3.12/site-packages (from matplotlib) (1.2.0)\r\n",
      "Requirement already satisfied: cycler>=0.10 in /home/tdole/miniconda3/lib/python3.12/site-packages (from matplotlib) (0.11.0)\r\n",
      "Requirement already satisfied: fonttools>=4.22.0 in /home/tdole/miniconda3/lib/python3.12/site-packages (from matplotlib) (4.51.0)\r\n",
      "Requirement already satisfied: kiwisolver>=1.3.1 in /home/tdole/miniconda3/lib/python3.12/site-packages (from matplotlib) (1.4.4)\r\n",
      "Requirement already satisfied: packaging>=20.0 in /home/tdole/miniconda3/lib/python3.12/site-packages (from matplotlib) (23.2)\r\n",
      "Requirement already satisfied: pillow>=8 in /home/tdole/miniconda3/lib/python3.12/site-packages (from matplotlib) (10.3.0)\r\n",
      "Requirement already satisfied: pyparsing>=2.3.1 in /home/tdole/miniconda3/lib/python3.12/site-packages (from matplotlib) (3.0.9)\r\n",
      "Requirement already satisfied: joblib>=1.2.0 in /home/tdole/miniconda3/lib/python3.12/site-packages (from scikit-learn) (1.4.2)\r\n",
      "Requirement already satisfied: threadpoolctl>=3.1.0 in /home/tdole/miniconda3/lib/python3.12/site-packages (from scikit-learn) (3.5.0)\r\n",
      "Requirement already satisfied: click in /home/tdole/miniconda3/lib/python3.12/site-packages (from nltk) (8.1.7)\r\n",
      "Requirement already satisfied: regex>=2021.8.3 in /home/tdole/miniconda3/lib/python3.12/site-packages (from nltk) (2023.10.3)\r\n",
      "Requirement already satisfied: tqdm in /home/tdole/miniconda3/lib/python3.12/site-packages (from nltk) (4.66.4)\r\n",
      "Requirement already satisfied: six>=1.5 in /home/tdole/miniconda3/lib/python3.12/site-packages (from python-dateutil>=2.8.2->pandas) (1.16.0)\r\n"
     ]
    }
   ],
   "execution_count": 1
  },
  {
   "cell_type": "code",
   "source": [
    "import os; os.environ['OPENBLAS_NUM_THREADS']='1'\n",
    "import pandas as pd\n",
    "import numpy as np\n",
    "import matplotlib.pyplot as plt\n",
    "import seaborn as sns\n",
    "from sklearn.metrics.pairwise import cosine_similarity\n",
    "from scipy.sparse import csr_matrix\n",
    "import implicit\n",
    "from sklearn.model_selection import train_test_split\n",
    "import threadpoolctl\n",
    "from surprise import Dataset, Reader\n",
    "from surprise.model_selection import train_test_split\n",
    "from surprise import SVD\n",
    "from surprise import accuracy\n",
    "from surprise.model_selection import GridSearchCV\n",
    "from collections import defaultdict\n",
    "from itertools import product"
   ],
   "metadata": {
    "execution": {
     "iopub.status.busy": "2024-06-21T23:20:01.733742Z",
     "iopub.execute_input": "2024-06-21T23:20:01.735147Z",
     "iopub.status.idle": "2024-06-21T23:20:01.748035Z",
     "shell.execute_reply.started": "2024-06-21T23:20:01.735097Z",
     "shell.execute_reply": "2024-06-21T23:20:01.746255Z"
    },
    "trusted": true,
    "ExecuteTime": {
     "end_time": "2024-06-23T00:14:55.779657Z",
     "start_time": "2024-06-23T00:14:55.776862Z"
    }
   },
   "id": "7c58582c9df7ee4",
   "outputs": [],
   "execution_count": 45
  },
  {
   "metadata": {},
   "cell_type": "markdown",
   "source": [
    "# Next Part of Project\n",
    "\n",
    "We are going to build a second recommender system using a user's best performance on each course (as a percentile of finish place within age group.)\n",
    "\n",
    "The idea here is that courses where an athlete performs better are rated higher, while courses where an athlete performs worse are rated lower.\n",
    "\n",
    "We will scale each athlete's finishes from -1 to 1, so that courses they have never raced on will be treated the same as the courses exactly in the middle of their own personal results.\n"
   ],
   "id": "404bce4a194df900"
  },
  {
   "metadata": {
    "ExecuteTime": {
     "end_time": "2024-06-22T23:22:04.680965Z",
     "start_time": "2024-06-22T23:21:56.493029Z"
    }
   },
   "cell_type": "code",
   "source": "merged_df = pd.read_csv('data/merged_triathlon_data_with_percentiles.csv')",
   "id": "7be7e3074a0f4578",
   "outputs": [],
   "execution_count": 27
  },
  {
   "metadata": {},
   "cell_type": "markdown",
   "source": "# Let's pick the best percentile score for each course, and then normalize the results",
   "id": "954af27e2908f222"
  },
  {
   "metadata": {
    "ExecuteTime": {
     "end_time": "2024-06-22T23:24:15.759510Z",
     "start_time": "2024-06-22T23:24:12.622047Z"
    }
   },
   "cell_type": "code",
   "source": [
    "# Calculate min and max percentile scores for each user for each course\n",
    "best_percentile_scores = merged_df.groupby(['course_id', 'person_id'])['percentile'].max().reset_index(name='best_percentile_scores')\n",
    "\n",
    "# Calculate min and max for each user\n",
    "best_percentile_scores['min_percentile'] = best_percentile_scores.groupby('person_id')['best_percentile_scores'].transform('min')\n",
    "best_percentile_scores['max_percentile'] = best_percentile_scores.groupby('person_id')['best_percentile_scores'].transform('max')\n",
    "\n",
    "# Apply min-max normalization to scale scores from -1 to 1\n",
    "best_percentile_scores['normalized_percentile'] = 2 * (best_percentile_scores['best_percentile_scores'] - best_percentile_scores['min_percentile']) / (best_percentile_scores['max_percentile'] - best_percentile_scores['min_percentile']) - 1\n",
    "\n",
    "# Handle cases where min and max are the same by setting normalized_percentile to 0\n",
    "best_percentile_scores['normalized_percentile'] = best_percentile_scores['normalized_percentile'].replace([np.inf, -np.inf], 0).fillna(0)\n",
    "\n",
    "# Select only the required columns for the recommender system\n",
    "recommender_data = best_percentile_scores[['course_id', 'person_id', 'normalized_percentile']]\n",
    "\n",
    "# Display the new dataframe\n",
    "print(recommender_data)\n",
    "\n",
    "# Optionally, save the new dataframe to a CSV file\n",
    "recommender_data.to_csv('data/course_person_normalized_percentile_scores.csv', index=False)\n",
    "\n"
   ],
   "id": "18644d523cf1115d",
   "outputs": [
    {
     "name": "stdout",
     "output_type": "stream",
     "text": [
      "         course_id  person_id  normalized_percentile\n",
      "0                0          5              -1.000000\n",
      "1                0        104               0.762948\n",
      "2                0        109              -0.301075\n",
      "3                0        129               0.292518\n",
      "4                0        130              -0.325472\n",
      "...            ...        ...                    ...\n",
      "2351094       2223     854639               0.000000\n",
      "2351095       2223     854640               0.000000\n",
      "2351096       2223     854641               0.000000\n",
      "2351097       2223     854642               0.000000\n",
      "2351098       2223     854643               0.000000\n",
      "\n",
      "[2351099 rows x 3 columns]\n"
     ]
    }
   ],
   "execution_count": 29
  },
  {
   "metadata": {},
   "cell_type": "markdown",
   "source": "# Double checking to make sure there aren't any nan values in the data set",
   "id": "a6e81ec1c6e91302"
  },
  {
   "metadata": {
    "ExecuteTime": {
     "end_time": "2024-06-22T23:24:25.209248Z",
     "start_time": "2024-06-22T23:24:25.182167Z"
    }
   },
   "cell_type": "code",
   "source": [
    "# Check for NaN values in the data\n",
    "print(recommender_data.isna().sum())\n",
    "\n",
    "# Drop rows with NaN values if any\n",
    "recommender_data = recommender_data.dropna()\n"
   ],
   "id": "f27a0d42bd7eb9e7",
   "outputs": [
    {
     "name": "stdout",
     "output_type": "stream",
     "text": [
      "course_id                0\n",
      "person_id                0\n",
      "normalized_percentile    0\n",
      "dtype: int64\n"
     ]
    }
   ],
   "execution_count": 30
  },
  {
   "metadata": {},
   "cell_type": "markdown",
   "source": "# Let's get the data ready for our model",
   "id": "67922ac240b38734"
  },
  {
   "metadata": {
    "ExecuteTime": {
     "end_time": "2024-06-22T23:24:27.695833Z",
     "start_time": "2024-06-22T23:24:26.677478Z"
    }
   },
   "cell_type": "code",
   "source": [
    "# Prepare data for Surprise library using normalized percentiles\n",
    "reader = Reader(rating_scale=(recommender_data['normalized_percentile'].min(), recommender_data['normalized_percentile'].max()))\n",
    "print(recommender_data['normalized_percentile'].min())\n",
    "print(recommender_data['normalized_percentile'].max())\n",
    "\n",
    "performance_dataset = Dataset.load_from_df(recommender_data[['person_id', 'course_id', 'normalized_percentile']], reader)\n"
   ],
   "id": "eff8d508255bb423",
   "outputs": [
    {
     "name": "stdout",
     "output_type": "stream",
     "text": [
      "-1.0\n",
      "1.0\n"
     ]
    }
   ],
   "execution_count": 31
  },
  {
   "metadata": {},
   "cell_type": "markdown",
   "source": "# Do an initial build and fit, and see how we perform",
   "id": "7f83b0b5b2fb2822"
  },
  {
   "metadata": {
    "ExecuteTime": {
     "end_time": "2024-06-22T23:24:56.407577Z",
     "start_time": "2024-06-22T23:24:30.077959Z"
    }
   },
   "cell_type": "code",
   "source": [
    "# Split the dataset into training and testing sets\n",
    "trainset, testset = train_test_split(performance_dataset, test_size=0.2, random_state=42)\n",
    "\n",
    "# Train the collaborative filtering model using SVD\n",
    "\n",
    "performance_algo = SVD()\n",
    "performance_algo.fit(trainset)\n",
    "\n",
    "# Evaluate the algorithm on the testset\n",
    "predictions = performance_algo.test(testset)\n",
    "\n",
    "# Compute and print RMSE\n",
    "accuracy.rmse(predictions)\n"
   ],
   "id": "24630716580e9041",
   "outputs": [
    {
     "name": "stdout",
     "output_type": "stream",
     "text": [
      "RMSE: 0.7299\n"
     ]
    },
    {
     "data": {
      "text/plain": [
       "0.7298712220449883"
      ]
     },
     "execution_count": 32,
     "metadata": {},
     "output_type": "execute_result"
    }
   ],
   "execution_count": 32
  },
  {
   "metadata": {},
   "cell_type": "markdown",
   "source": "# Let's test the model and see what courses it recommends for me",
   "id": "b9dd3726ac4d10f2"
  },
  {
   "metadata": {
    "ExecuteTime": {
     "end_time": "2024-06-22T23:26:38.233724Z",
     "start_time": "2024-06-22T23:26:38.216256Z"
    }
   },
   "cell_type": "code",
   "source": [
    "# Load the CSV file\n",
    "course_id_to_identifier_df = pd.read_csv('data/course_id_to_identifier.csv')\n",
    "\n",
    "# Convert the DataFrame to a dictionary\n",
    "course_id_to_identifier = pd.Series(course_id_to_identifier_df.course_identifier.values, index=course_id_to_identifier_df.course_id).to_dict()\n",
    "\n",
    "def recommend_courses_based_on_performance(user_id, algo, trainset, course_id_to_identifier, n=5):\n",
    "       \n",
    "    # Check if the user exists in the trainset\n",
    "    if trainset.knows_user(user_id):\n",
    "        inner_uid = trainset.to_inner_uid(user_id)\n",
    "        known_user = True\n",
    "    else:\n",
    "        print(f\"User ID {user_id} not found in training data. Providing fallback recommendations.\")\n",
    "        known_user = False\n",
    "\n",
    "    # Get all course IDs\n",
    "    all_course_ids = [trainset.to_raw_iid(iid) for iid in trainset.all_items()]\n",
    "    user_course_ids = [trainset.to_raw_iid(iid) for (iid, _) in trainset.ur[inner_uid]] if known_user else []\n",
    "\n",
    "    recommendations = []\n",
    "    if known_user:\n",
    "        for course_id in all_course_ids:\n",
    "            if course_id not in user_course_ids:\n",
    "                est = algo.predict(user_id, course_id).est\n",
    "                recommendations.append((course_id, est))\n",
    "    else:\n",
    "        # Fallback: Recommend popular courses or courses with highest overall scores\n",
    "        for course_id in all_course_ids:\n",
    "            est = algo.predict(user_id, course_id).est\n",
    "            recommendations.append((course_id, est))\n",
    "    \n",
    "    recommendations.sort(key=lambda x: x[1], reverse=True)\n",
    "    \n",
    "    # Convert course IDs to course identifiers\n",
    "    recommendations = [(course_id_to_identifier.get(int(course_id), course_id), est) for course_id, est in recommendations[:n]]\n",
    "    \n",
    "    return recommendations\n",
    "\n",
    "recommendations = recommend_courses_based_on_performance(726508, performance_algo, trainset, course_id_to_identifier, n=5)\n",
    "print(f\"Recommended courses based on performance for user 726508: {recommendations}\")\n"
   ],
   "id": "a26559bdb139c2e9",
   "outputs": [
    {
     "name": "stdout",
     "output_type": "stream",
     "text": [
      "Recommended courses based on performance for user 726508: [('itu/junior-national-championship-mauritius/sprint', 0.8015289248653484), ('itu/national-championship-dominican-republic/olympic', 0.7158121275701177), ('itu/european-cup-varna/sprint', 0.692956004096436), ('itu/junior-national-championship-slovakia/sprint', 0.6814735626324404), ('itu/junior-national-championship-argentina/sprint', 0.6630662235025739)]\n"
     ]
    }
   ],
   "execution_count": 36
  },
  {
   "metadata": {
    "ExecuteTime": {
     "end_time": "2024-06-22T23:27:21.497517Z",
     "start_time": "2024-06-22T23:27:21.485587Z"
    }
   },
   "cell_type": "code",
   "source": [
    "recommendations = recommend_courses_based_on_performance(275090, performance_algo, trainset, course_id_to_identifier, n=5)\n",
    "print(f\"Recommended courses based on performance for user 275090: {recommendations}\")"
   ],
   "id": "2db0963ae08c1809",
   "outputs": [
    {
     "name": "stdout",
     "output_type": "stream",
     "text": [
      "Recommended courses based on performance for user 726508: [('ironrace/samara/olympic', 0.7183747135483562), ('itu/national-championship-turkey/sprint', 0.665750533207942), ('itu/national-championship-bulgaria/sprint', 0.6311388378733412), ('citylink-triatlon/girvas/half', 0.584642587346724), ('itu/american-cup-roatan/sprint', 0.5735648027884133)]\n"
     ]
    }
   ],
   "execution_count": 37
  },
  {
   "metadata": {
    "ExecuteTime": {
     "end_time": "2024-06-22T23:28:16.776183Z",
     "start_time": "2024-06-22T23:28:16.764569Z"
    }
   },
   "cell_type": "code",
   "source": [
    "\n",
    "recommendations = recommend_courses_based_on_performance(506405, performance_algo, trainset, course_id_to_identifier, n=5)\n",
    "print(f\"Recommended courses based on performance for user 506405: {recommendations}\")"
   ],
   "id": "23e5cdee7ca7f576",
   "outputs": [
    {
     "name": "stdout",
     "output_type": "stream",
     "text": [
      "Recommended courses based on performance for user 506405: [('itu/paratriathlon-asian-championship-subic-bay/sprint', 0.7469601131633596), ('ironman/arizona/sprint', 0.726038187963418), ('itu/national-championship-bulgaria/sprint', 0.6840920774559234), ('itu/junior-national-championship-mauritius/sprint', 0.6771919585475253), ('itu/junior-cup-tiszaujvaros-europe-junior-tiszaujvaros/supersprint', 0.6554180801509647)]\n"
     ]
    }
   ],
   "execution_count": 38
  },
  {
   "metadata": {},
   "cell_type": "markdown",
   "source": [
    "# Hyperparameter Tuning Round 1\n",
    "For data ranging from -1 to 1, RMSE of .7299 is not terrible, but certainly not great.  Let's see if we can improve that with hyperparameter tuning"
   ],
   "id": "7da2a75b199873ee"
  },
  {
   "metadata": {
    "ExecuteTime": {
     "end_time": "2024-06-22T23:58:27.753633Z",
     "start_time": "2024-06-22T23:29:46.901521Z"
    }
   },
   "cell_type": "code",
   "source": [
    "# Define the parameter grid\n",
    "param_grid = {\n",
    "    'n_factors': [50, 100, 150],\n",
    "    'lr_all': [0.002, 0.005, 0.01],\n",
    "    'reg_all': [0.02, 0.1, 0.2]\n",
    "}\n",
    "\n",
    "# Use GridSearchCV to find the best hyperparameters\n",
    "gs = GridSearchCV(SVD, param_grid, measures=['rmse'], cv=3, joblib_verbose=2)\n",
    "\n",
    "# Perform the grid search on the entire dataset\n",
    "gs.fit(performance_dataset)\n",
    "\n",
    "# Output the best score and the best parameters\n",
    "print(f\"Best RMSE score: {gs.best_score['rmse']}\")\n",
    "print(f\"Best parameters: {gs.best_params['rmse']}\")"
   ],
   "id": "7d47dca6736b7fb0",
   "outputs": [
    {
     "name": "stderr",
     "output_type": "stream",
     "text": [
      "[Parallel(n_jobs=1)]: Done  40 tasks      | elapsed: 12.4min\n"
     ]
    },
    {
     "name": "stdout",
     "output_type": "stream",
     "text": [
      "Best RMSE score: 0.7066559084315994\n",
      "Best parameters: {'n_factors': 50, 'lr_all': 0.002, 'reg_all': 0.02}\n"
     ]
    }
   ],
   "execution_count": 39
  },
  {
   "metadata": {
    "ExecuteTime": {
     "end_time": "2024-06-23T00:05:14.456780Z",
     "start_time": "2024-06-23T00:04:59.799649Z"
    }
   },
   "cell_type": "code",
   "source": [
    "# Get the best model from grid search\n",
    "best_algo = gs.best_estimator['rmse']\n",
    "\n",
    "# Train the best algorithm on the trainset\n",
    "best_algo.fit(trainset)\n",
    "\n",
    "# Compute and print RMSE\n",
    "accuracy.rmse(predictions)"
   ],
   "id": "ab50b9e2b3900b4e",
   "outputs": [
    {
     "name": "stdout",
     "output_type": "stream",
     "text": [
      "RMSE: 0.7299\n"
     ]
    },
    {
     "data": {
      "text/plain": [
       "0.7298712220449883"
      ]
     },
     "execution_count": 40,
     "metadata": {},
     "output_type": "execute_result"
    }
   ],
   "execution_count": 40
  },
  {
   "metadata": {
    "ExecuteTime": {
     "end_time": "2024-06-23T00:05:52.006434Z",
     "start_time": "2024-06-23T00:05:51.994711Z"
    }
   },
   "cell_type": "code",
   "source": [
    "recommendations = recommend_courses_based_on_performance(726508, best_algo, trainset, course_id_to_identifier, n=5)\n",
    "print(f\"Recommended courses based on performance for user 726508: {recommendations}\")"
   ],
   "id": "5e0d336108f14f5b",
   "outputs": [
    {
     "name": "stdout",
     "output_type": "stream",
     "text": [
      "Recommended courses based on performance for user 726508: [('itu/junior-national-championship-argentina/sprint', 0.6353046867373143), ('itu/junior-national-championship-slovakia/sprint', 0.5630383164130266), ('itu/junior-cup-tiszaujvaros-europe-junior-tiszaujvaros/supersprint', 0.5606683830019532), ('itu/national-championship-turkey/sprint', 0.5560345712431283), ('itu/african-youth-games-gaborone/sprint', 0.5393459213888868)]\n"
     ]
    }
   ],
   "execution_count": 41
  },
  {
   "metadata": {},
   "cell_type": "markdown",
   "source": [
    "# Let's see if we can do better using precision and recall instead of RMSE\n",
    "\n",
    "Unfortunately, Surprise won't let us do a gridsearchcv with those, so let's do it ourselves."
   ],
   "id": "17d31b2346135a00"
  },
  {
   "metadata": {
    "ExecuteTime": {
     "end_time": "2024-06-23T00:58:35.528972Z",
     "start_time": "2024-06-23T00:15:04.546740Z"
    }
   },
   "cell_type": "code",
   "source": [
    "def precision_recall_at_k(predictions, k=5, threshold=0.5):\n",
    "    user_est_true = defaultdict(list)\n",
    "    for uid, _, true_r, est, _ in predictions:\n",
    "        user_est_true[uid].append((est, true_r))\n",
    "\n",
    "    precisions = dict()\n",
    "    recalls = dict()\n",
    "    for uid, user_ratings in user_est_true.items():\n",
    "        user_ratings.sort(key=lambda x: x[0], reverse=True)\n",
    "        n_rel = sum((true_r >= threshold) for (_, true_r) in user_ratings)\n",
    "        n_rec_k = sum((est >= threshold) for (est, _) in user_ratings[:k])\n",
    "        n_rel_and_rec_k = sum(((true_r >= threshold) and (est >= threshold)) for (est, true_r) in user_ratings[:k])\n",
    "        \n",
    "        precisions[uid] = n_rel_and_rec_k / n_rec_k if n_rec_k != 0 else 1\n",
    "        recalls[uid] = n_rel_and_rec_k / n_rel if n_rel != 0 else 1\n",
    "\n",
    "    return precisions, recalls\n",
    "\n",
    "best_precision = 0\n",
    "best_recall = 0\n",
    "best_params = None\n",
    "\n",
    "for n_factors, n_epochs, lr_all, reg_all in product(param_grid['n_factors'], param_grid['n_epochs'], param_grid['lr_all'], param_grid['reg_all']):\n",
    "    # Train the collaborative filtering model using SVD with the current hyperparameters\n",
    "    algo = SVD(n_factors=n_factors, n_epochs=n_epochs, lr_all=lr_all, reg_all=reg_all)\n",
    "    algo.fit(trainset)\n",
    "    \n",
    "    # Make predictions on the test set\n",
    "    predictions = algo.test(testset)\n",
    "    \n",
    "    # Calculate precision and recall at k=5\n",
    "    precisions, recalls = precision_recall_at_k(predictions, k=5)\n",
    "    \n",
    "    # Calculate average precision and recall\n",
    "    avg_precision = sum(prec for prec in precisions.values()) / len(precisions)\n",
    "    avg_recall = sum(rec for rec in recalls.values()) / len(recalls)\n",
    "    \n",
    "    print(f\"Params: n_factors={n_factors}, n_epochs={n_epochs}, lr_all={lr_all}, reg_all={reg_all}\")\n",
    "    print(f'Average Precision at k=5: {avg_precision}')\n",
    "    print(f'Average Recall at k=5: {avg_recall}')\n",
    "    \n",
    "    # Update best parameters if current ones are better\n",
    "    if avg_precision > best_precision and avg_recall > best_recall:\n",
    "        best_precision = avg_precision\n",
    "        best_recall = avg_recall\n",
    "        best_params = (n_factors, n_epochs, lr_all, reg_all)\n",
    "\n",
    "print(f\"Best Params: n_factors={best_params[0]}, n_epochs={best_params[1]}, lr_all={best_params[2]}, reg_all={best_params[3]}\")\n",
    "print(f'Best Average Precision at k=5: {best_precision}')\n",
    "print(f'Best Average Recall at k=5: {best_recall}')\n"
   ],
   "id": "f020f0416f08bb65",
   "outputs": [
    {
     "name": "stdout",
     "output_type": "stream",
     "text": [
      "Params: n_factors=50, n_epochs=20, lr_all=0.002, reg_all=0.02\n",
      "Average Precision at k=5: 0.9997062931818395\n",
      "Average Recall at k=5: 0.6476068936383713\n",
      "Params: n_factors=50, n_epochs=20, lr_all=0.002, reg_all=0.05\n",
      "Average Precision at k=5: 0.9997771653026596\n",
      "Average Recall at k=5: 0.6476049468128032\n",
      "Params: n_factors=50, n_epochs=20, lr_all=0.002, reg_all=0.1\n",
      "Average Precision at k=5: 0.9998153200026249\n",
      "Average Recall at k=5: 0.6475329841588947\n",
      "Params: n_factors=50, n_epochs=20, lr_all=0.005, reg_all=0.02\n",
      "Average Precision at k=5: 0.9985587460509416\n",
      "Average Recall at k=5: 0.6497354367788809\n",
      "Params: n_factors=50, n_epochs=20, lr_all=0.005, reg_all=0.05\n",
      "Average Precision at k=5: 0.9989589016696196\n",
      "Average Recall at k=5: 0.6490709451947747\n",
      "Params: n_factors=50, n_epochs=20, lr_all=0.005, reg_all=0.1\n",
      "Average Precision at k=5: 0.9992352185692456\n",
      "Average Recall at k=5: 0.6487571878518807\n",
      "Params: n_factors=50, n_epochs=20, lr_all=0.01, reg_all=0.02\n",
      "Average Precision at k=5: 0.9893659945064736\n",
      "Average Recall at k=5: 0.6580053315875372\n",
      "Params: n_factors=50, n_epochs=20, lr_all=0.01, reg_all=0.05\n",
      "Average Precision at k=5: 0.9964630968116923\n",
      "Average Recall at k=5: 0.6542365974975239\n",
      "Params: n_factors=50, n_epochs=20, lr_all=0.01, reg_all=0.1\n",
      "Average Precision at k=5: 0.9972710014905648\n",
      "Average Recall at k=5: 0.6529660909746757\n",
      "Params: n_factors=50, n_epochs=30, lr_all=0.002, reg_all=0.02\n",
      "Average Precision at k=5: 0.9994295075512558\n",
      "Average Recall at k=5: 0.648195353432086\n",
      "Params: n_factors=50, n_epochs=30, lr_all=0.002, reg_all=0.05\n",
      "Average Precision at k=5: 0.9995023952151944\n",
      "Average Recall at k=5: 0.6480425330061125\n",
      "Params: n_factors=50, n_epochs=30, lr_all=0.002, reg_all=0.1\n",
      "Average Precision at k=5: 0.9996722164412071\n",
      "Average Recall at k=5: 0.6478713168957705\n",
      "Params: n_factors=50, n_epochs=30, lr_all=0.005, reg_all=0.02\n",
      "Average Precision at k=5: 0.9954092489992593\n",
      "Average Recall at k=5: 0.6537838398660459\n",
      "Params: n_factors=50, n_epochs=30, lr_all=0.005, reg_all=0.05\n",
      "Average Precision at k=5: 0.9979074443850721\n",
      "Average Recall at k=5: 0.6516712073983143\n",
      "Params: n_factors=50, n_epochs=30, lr_all=0.005, reg_all=0.1\n",
      "Average Precision at k=5: 0.998353301272136\n",
      "Average Recall at k=5: 0.6508516333477312\n",
      "Params: n_factors=50, n_epochs=30, lr_all=0.01, reg_all=0.02\n",
      "Average Precision at k=5: 0.9778969916847126\n",
      "Average Recall at k=5: 0.6639149564331666\n",
      "Params: n_factors=50, n_epochs=30, lr_all=0.01, reg_all=0.05\n",
      "Average Precision at k=5: 0.9916896813566957\n",
      "Average Recall at k=5: 0.6593139034385136\n",
      "Params: n_factors=50, n_epochs=30, lr_all=0.01, reg_all=0.1\n",
      "Average Precision at k=5: 0.9941406755350561\n",
      "Average Recall at k=5: 0.6570856366863131\n",
      "Params: n_factors=50, n_epochs=40, lr_all=0.002, reg_all=0.02\n",
      "Average Precision at k=5: 0.9989888535778234\n",
      "Average Recall at k=5: 0.6489504714153517\n",
      "Params: n_factors=50, n_epochs=40, lr_all=0.002, reg_all=0.05\n",
      "Average Precision at k=5: 0.9992302968941887\n",
      "Average Recall at k=5: 0.6486345422544691\n",
      "Params: n_factors=50, n_epochs=40, lr_all=0.002, reg_all=0.1\n",
      "Average Precision at k=5: 0.999406399115036\n",
      "Average Recall at k=5: 0.6483946210962339\n",
      "Params: n_factors=50, n_epochs=40, lr_all=0.005, reg_all=0.02\n",
      "Average Precision at k=5: 0.9881767771934263\n",
      "Average Recall at k=5: 0.6588877416218726\n",
      "Params: n_factors=50, n_epochs=40, lr_all=0.005, reg_all=0.05\n",
      "Average Precision at k=5: 0.9961904828866331\n",
      "Average Recall at k=5: 0.6546568658262205\n",
      "Params: n_factors=50, n_epochs=40, lr_all=0.005, reg_all=0.1\n",
      "Average Precision at k=5: 0.997177208425908\n",
      "Average Recall at k=5: 0.6531924764807175\n",
      "Params: n_factors=50, n_epochs=40, lr_all=0.01, reg_all=0.02\n",
      "Average Precision at k=5: 0.9737159115410938\n",
      "Average Recall at k=5: 0.6660280542564615\n",
      "Params: n_factors=50, n_epochs=40, lr_all=0.01, reg_all=0.05\n",
      "Average Precision at k=5: 0.9838956229903159\n",
      "Average Recall at k=5: 0.6634929152580035\n",
      "Params: n_factors=50, n_epochs=40, lr_all=0.01, reg_all=0.1\n",
      "Average Precision at k=5: 0.9889753072531428\n",
      "Average Recall at k=5: 0.6604185554159542\n",
      "Params: n_factors=100, n_epochs=20, lr_all=0.002, reg_all=0.02\n",
      "Average Precision at k=5: 0.9996286244621313\n",
      "Average Recall at k=5: 0.6477394569811322\n",
      "Params: n_factors=100, n_epochs=20, lr_all=0.002, reg_all=0.05\n",
      "Average Precision at k=5: 0.9997466509173065\n",
      "Average Recall at k=5: 0.6476259949399907\n",
      "Params: n_factors=100, n_epochs=20, lr_all=0.002, reg_all=0.1\n",
      "Average Precision at k=5: 0.999800554977454\n",
      "Average Recall at k=5: 0.6475366248076967\n",
      "Params: n_factors=100, n_epochs=20, lr_all=0.005, reg_all=0.02\n",
      "Average Precision at k=5: 0.9981296228590714\n",
      "Average Recall at k=5: 0.6501935932880261\n",
      "Params: n_factors=100, n_epochs=20, lr_all=0.005, reg_all=0.05\n",
      "Average Precision at k=5: 0.9989136222590957\n",
      "Average Recall at k=5: 0.6491841774242916\n",
      "Params: n_factors=100, n_epochs=20, lr_all=0.005, reg_all=0.1\n",
      "Average Precision at k=5: 0.9992483430360644\n",
      "Average Recall at k=5: 0.6487655202353432\n",
      "Params: n_factors=100, n_epochs=20, lr_all=0.01, reg_all=0.02\n",
      "Average Precision at k=5: 0.9873789502301473\n",
      "Average Recall at k=5: 0.6583054074768434\n",
      "Params: n_factors=100, n_epochs=20, lr_all=0.01, reg_all=0.05\n",
      "Average Precision at k=5: 0.996267964113958\n",
      "Average Recall at k=5: 0.6541556677495807\n",
      "Params: n_factors=100, n_epochs=20, lr_all=0.01, reg_all=0.1\n",
      "Average Precision at k=5: 0.9972221597247615\n",
      "Average Recall at k=5: 0.6528629203993406\n",
      "Params: n_factors=100, n_epochs=30, lr_all=0.002, reg_all=0.02\n",
      "Average Precision at k=5: 0.9992403746097815\n",
      "Average Recall at k=5: 0.648355832442721\n",
      "Params: n_factors=100, n_epochs=30, lr_all=0.002, reg_all=0.05\n",
      "Average Precision at k=5: 0.9995644551940078\n",
      "Average Recall at k=5: 0.6480391430144291\n",
      "Params: n_factors=100, n_epochs=30, lr_all=0.002, reg_all=0.1\n",
      "Average Precision at k=5: 0.9996314368478781\n",
      "Average Recall at k=5: 0.6479009947493298\n",
      "Params: n_factors=100, n_epochs=30, lr_all=0.005, reg_all=0.02\n",
      "Average Precision at k=5: 0.993304365760141\n",
      "Average Recall at k=5: 0.6549198741303317\n",
      "Params: n_factors=100, n_epochs=30, lr_all=0.005, reg_all=0.05\n",
      "Average Precision at k=5: 0.9977933552699423\n",
      "Average Recall at k=5: 0.6517199335539606\n",
      "Params: n_factors=100, n_epochs=30, lr_all=0.005, reg_all=0.1\n",
      "Average Precision at k=5: 0.9983673632008702\n",
      "Average Recall at k=5: 0.6508493567247468\n",
      "Params: n_factors=100, n_epochs=30, lr_all=0.01, reg_all=0.02\n",
      "Average Precision at k=5: 0.9802797855087142\n",
      "Average Recall at k=5: 0.6627357498468317\n",
      "Params: n_factors=100, n_epochs=30, lr_all=0.01, reg_all=0.05\n",
      "Average Precision at k=5: 0.9912039823382174\n",
      "Average Recall at k=5: 0.659185524268771\n",
      "Params: n_factors=100, n_epochs=30, lr_all=0.01, reg_all=0.1\n",
      "Average Precision at k=5: 0.9941012552615051\n",
      "Average Recall at k=5: 0.6570125369774171\n",
      "Params: n_factors=100, n_epochs=40, lr_all=0.002, reg_all=0.02\n",
      "Average Precision at k=5: 0.9984875926915471\n",
      "Average Recall at k=5: 0.6493304660344201\n",
      "Params: n_factors=100, n_epochs=40, lr_all=0.002, reg_all=0.05\n",
      "Average Precision at k=5: 0.9991795802045542\n",
      "Average Recall at k=5: 0.6486926307217667\n",
      "Params: n_factors=100, n_epochs=40, lr_all=0.002, reg_all=0.1\n",
      "Average Precision at k=5: 0.9993334645780015\n",
      "Average Recall at k=5: 0.648418943179609\n",
      "Params: n_factors=100, n_epochs=40, lr_all=0.005, reg_all=0.02\n",
      "Average Precision at k=5: 0.9857971707399386\n",
      "Average Recall at k=5: 0.6597628694923179\n",
      "Params: n_factors=100, n_epochs=40, lr_all=0.005, reg_all=0.05\n",
      "Average Precision at k=5: 0.9959303372050511\n",
      "Average Recall at k=5: 0.6545867630727151\n",
      "Params: n_factors=100, n_epochs=40, lr_all=0.005, reg_all=0.1\n",
      "Average Precision at k=5: 0.9971399911878582\n",
      "Average Recall at k=5: 0.653143577411267\n",
      "Params: n_factors=100, n_epochs=40, lr_all=0.01, reg_all=0.02\n",
      "Average Precision at k=5: 0.9785146384678123\n",
      "Average Recall at k=5: 0.6637922693945068\n",
      "Params: n_factors=100, n_epochs=40, lr_all=0.01, reg_all=0.05\n",
      "Average Precision at k=5: 0.9844189611047052\n",
      "Average Recall at k=5: 0.662455961130519\n",
      "Params: n_factors=100, n_epochs=40, lr_all=0.01, reg_all=0.1\n",
      "Average Precision at k=5: 0.9891548312099819\n",
      "Average Recall at k=5: 0.6602406584417514\n",
      "Params: n_factors=150, n_epochs=20, lr_all=0.002, reg_all=0.02\n",
      "Average Precision at k=5: 0.99948111482971\n",
      "Average Recall at k=5: 0.6478531561426982\n",
      "Params: n_factors=150, n_epochs=20, lr_all=0.002, reg_all=0.05\n",
      "Average Precision at k=5: 0.9996907781871361\n",
      "Average Recall at k=5: 0.6476831628184386\n",
      "Params: n_factors=150, n_epochs=20, lr_all=0.002, reg_all=0.1\n",
      "Average Precision at k=5: 0.9997556036786005\n",
      "Average Recall at k=5: 0.6475526209228083\n",
      "Params: n_factors=150, n_epochs=20, lr_all=0.005, reg_all=0.02\n",
      "Average Precision at k=5: 0.9975112261064397\n",
      "Average Recall at k=5: 0.650374114382959\n",
      "Params: n_factors=150, n_epochs=20, lr_all=0.005, reg_all=0.05\n",
      "Average Precision at k=5: 0.9988443438235323\n",
      "Average Recall at k=5: 0.6492184358859698\n",
      "Params: n_factors=150, n_epochs=20, lr_all=0.005, reg_all=0.1\n",
      "Average Precision at k=5: 0.9991582529459742\n",
      "Average Recall at k=5: 0.6487891329397573\n",
      "Params: n_factors=150, n_epochs=20, lr_all=0.01, reg_all=0.02\n",
      "Average Precision at k=5: 0.9865259067600378\n",
      "Average Recall at k=5: 0.658622441125043\n",
      "Params: n_factors=150, n_epochs=20, lr_all=0.01, reg_all=0.05\n",
      "Average Precision at k=5: 0.9960740969898099\n",
      "Average Recall at k=5: 0.6542464076517148\n",
      "Params: n_factors=150, n_epochs=20, lr_all=0.01, reg_all=0.1\n",
      "Average Precision at k=5: 0.99727072025199\n",
      "Average Recall at k=5: 0.6528835842818674\n",
      "Params: n_factors=150, n_epochs=30, lr_all=0.002, reg_all=0.02\n",
      "Average Precision at k=5: 0.9990789905410095\n",
      "Average Recall at k=5: 0.6485189931157671\n",
      "Params: n_factors=150, n_epochs=30, lr_all=0.002, reg_all=0.05\n",
      "Average Precision at k=5: 0.9994374291044427\n",
      "Average Recall at k=5: 0.6481186116735024\n",
      "Params: n_factors=150, n_epochs=30, lr_all=0.002, reg_all=0.1\n",
      "Average Precision at k=5: 0.9995818919856382\n",
      "Average Recall at k=5: 0.6478926197344511\n",
      "Params: n_factors=150, n_epochs=30, lr_all=0.005, reg_all=0.02\n",
      "Average Precision at k=5: 0.9917838025330223\n",
      "Average Recall at k=5: 0.6553011313300074\n",
      "Params: n_factors=150, n_epochs=30, lr_all=0.005, reg_all=0.05\n",
      "Average Precision at k=5: 0.9975889885723396\n",
      "Average Recall at k=5: 0.6517498813843767\n",
      "Params: n_factors=150, n_epochs=30, lr_all=0.005, reg_all=0.1\n",
      "Average Precision at k=5: 0.9983023970901185\n",
      "Average Recall at k=5: 0.6508477437626761\n",
      "Params: n_factors=150, n_epochs=30, lr_all=0.01, reg_all=0.02\n",
      "Average Precision at k=5: 0.9810725501776489\n",
      "Average Recall at k=5: 0.6620192112582853\n",
      "Params: n_factors=150, n_epochs=30, lr_all=0.01, reg_all=0.05\n",
      "Average Precision at k=5: 0.9910555821169762\n",
      "Average Recall at k=5: 0.659084490941931\n",
      "Params: n_factors=150, n_epochs=30, lr_all=0.01, reg_all=0.1\n",
      "Average Precision at k=5: 0.9942044229453179\n",
      "Average Recall at k=5: 0.657003059785318\n",
      "Params: n_factors=150, n_epochs=40, lr_all=0.002, reg_all=0.02\n",
      "Average Precision at k=5: 0.9982367278829299\n",
      "Average Recall at k=5: 0.6497011902383909\n",
      "Params: n_factors=150, n_epochs=40, lr_all=0.002, reg_all=0.05\n",
      "Average Precision at k=5: 0.9991150828247601\n",
      "Average Recall at k=5: 0.6487505467552291\n",
      "Params: n_factors=150, n_epochs=40, lr_all=0.002, reg_all=0.1\n",
      "Average Precision at k=5: 0.9993879779883943\n",
      "Average Recall at k=5: 0.6484221247553712\n",
      "Params: n_factors=150, n_epochs=40, lr_all=0.005, reg_all=0.02\n",
      "Average Precision at k=5: 0.9851330258458252\n",
      "Average Recall at k=5: 0.6598537792723532\n",
      "Params: n_factors=150, n_epochs=40, lr_all=0.005, reg_all=0.05\n",
      "Average Precision at k=5: 0.9957989987906745\n",
      "Average Recall at k=5: 0.6546024360748606\n",
      "Params: n_factors=150, n_epochs=40, lr_all=0.005, reg_all=0.1\n",
      "Average Precision at k=5: 0.9971720523853723\n",
      "Average Recall at k=5: 0.653121042725621\n",
      "Params: n_factors=150, n_epochs=40, lr_all=0.01, reg_all=0.02\n",
      "Average Precision at k=5: 0.9803812657610789\n",
      "Average Recall at k=5: 0.662414093037142\n",
      "Params: n_factors=150, n_epochs=40, lr_all=0.01, reg_all=0.05\n",
      "Average Precision at k=5: 0.9848590057278923\n",
      "Average Recall at k=5: 0.6621439068044168\n",
      "Params: n_factors=150, n_epochs=40, lr_all=0.01, reg_all=0.1\n",
      "Average Precision at k=5: 0.9893304646998714\n",
      "Average Recall at k=5: 0.6601757528812683\n",
      "Best Params: n_factors=100, n_epochs=20, lr_all=0.002, reg_all=0.05\n",
      "Best Average Precision at k=5: 0.9997466509173065\n",
      "Best Average Recall at k=5: 0.6476259949399907\n"
     ]
    }
   ],
   "execution_count": 46
  },
  {
   "metadata": {
    "ExecuteTime": {
     "end_time": "2024-06-23T01:05:58.478322Z",
     "start_time": "2024-06-23T01:05:38.457928Z"
    }
   },
   "cell_type": "code",
   "source": [
    "# Extract the best hyperparameters\n",
    "best_n_factors, best_n_epochs, best_lr_all, best_reg_all = best_params\n",
    "\n",
    "# Create a new model instance with the best parameters\n",
    "best_algo = SVD(n_factors=best_n_factors, n_epochs=best_n_epochs, lr_all=best_lr_all, reg_all=best_reg_all)\n",
    "\n",
    "# Retrain the model on the entire training set\n",
    "best_algo.fit(trainset)\n"
   ],
   "id": "4fe7c33d41df6317",
   "outputs": [
    {
     "data": {
      "text/plain": [
       "<surprise.prediction_algorithms.matrix_factorization.SVD at 0x7a2edcdda030>"
      ]
     },
     "execution_count": 47,
     "metadata": {},
     "output_type": "execute_result"
    }
   ],
   "execution_count": 47
  },
  {
   "metadata": {},
   "cell_type": "markdown",
   "source": "# Let's see what it recommends for me now!",
   "id": "df776a92a6140c00"
  },
  {
   "metadata": {
    "ExecuteTime": {
     "end_time": "2024-06-23T01:07:37.467984Z",
     "start_time": "2024-06-23T01:07:37.456050Z"
    }
   },
   "cell_type": "code",
   "source": [
    "recommendations = recommend_courses_based_on_performance(726508, best_algo, trainset, course_id_to_identifier, n=10)\n",
    "print(f\"Recommended courses based on performance for user 726508: {recommendations}\")"
   ],
   "id": "8da82801ef7fcda",
   "outputs": [
    {
     "name": "stdout",
     "output_type": "stream",
     "text": [
      "Recommended courses based on performance for user 726508: [('itu/junior-national-championship-slovakia/sprint', 0.6880134652323595), ('itu/junior-national-championship-ukraine/sprint', 0.5401109136248701), ('itu/junior-national-championship-colombia/sprint', 0.537487594217624), ('itu/junior-national-championship-slovenia/sprint', 0.5034592065571069), ('itu/junior-cup-tiszaujvaros-europe-junior-tiszaujvaros/supersprint', 0.4950344482726227), ('itu/national-championship-turkey/sprint', 0.49180182941520967), ('itu/national-championship-zimbabwe/sprint', 0.47285014775576195), ('itu/junior-national-championship-czechia/sprint', 0.470803400719911), ('nobrand/triway/sprint', 0.46765189994429257), ('itu/junior-national-championship-argentina/sprint', 0.46431622749614115)]\n"
     ]
    }
   ],
   "execution_count": 49
  },
  {
   "metadata": {
    "ExecuteTime": {
     "end_time": "2024-06-23T01:07:39.829036Z",
     "start_time": "2024-06-23T01:07:39.814809Z"
    }
   },
   "cell_type": "code",
   "source": [
    "recommendations = recommend_courses_based_on_performance(275090, best_algo, trainset, course_id_to_identifier, n=10)\n",
    "print(f\"Recommended courses based on performance for user 275090: {recommendations}\")"
   ],
   "id": "508d448e8b050959",
   "outputs": [
    {
     "name": "stdout",
     "output_type": "stream",
     "text": [
      "Recommended courses based on performance for user 275090: [('itu/national-championship-bulgaria/sprint', 0.5744168761069489), ('itu/junior-national-championship-slovenia/sprint', 0.5727186048379262), ('itu/junior-national-championship-croatia/sprint', 0.5463241333786859), ('itu/junior-cup-tiszaujvaros-europe-junior-tiszaujvaros/supersprint', 0.5346849942218972), ('trismile/telia-tallinn/sprint', 0.5271176828432286), ('itu/junior-national-championship-costa-rica/sprint', 0.5093914700832319), ('itu/paratriathlon-asian-championship-subic-bay/sprint', 0.48375053102122784), ('itu/junior-national-championship-china/sprint', 0.46970172714783665), ('itu/junior-national-championship-lithuania/sprint', 0.4634900164582511), ('itu/asian-yog-qualifier-incheon/sprint', 0.4631107015737319)]\n"
     ]
    }
   ],
   "execution_count": 50
  },
  {
   "metadata": {
    "ExecuteTime": {
     "end_time": "2024-06-23T01:08:40.500722Z",
     "start_time": "2024-06-23T01:08:40.488929Z"
    }
   },
   "cell_type": "code",
   "source": [
    "recommendations = recommend_courses_based_on_performance(506405, performance_algo, trainset, course_id_to_identifier, n=5)\n",
    "print(f\"Recommended courses based on performance for user 506405: {recommendations}\")"
   ],
   "id": "a900b8c4f5392a1b",
   "outputs": [
    {
     "name": "stdout",
     "output_type": "stream",
     "text": [
      "Recommended courses based on performance for user 506405: [('itu/paratriathlon-asian-championship-subic-bay/sprint', 0.7469601131633596), ('ironman/arizona/sprint', 0.726038187963418), ('itu/national-championship-bulgaria/sprint', 0.6840920774559234), ('itu/junior-national-championship-mauritius/sprint', 0.6771919585475253), ('itu/junior-cup-tiszaujvaros-europe-junior-tiszaujvaros/supersprint', 0.6554180801509647)]\n"
     ]
    }
   ],
   "execution_count": 51
  },
  {
   "metadata": {},
   "cell_type": "markdown",
   "source": [
    "# Conclusions\n",
    "\n",
    "This has been a fun project to work on.  However, the results were less satisfying than I had hoped, perhaps due to the limitations on the data.  The recommenders\n",
    "consistently recommend sprint races, perhaps because those are the most common and often have a high number of participants.  It is good to see that it recommends\n",
    "very different sprint races to different users, however.\n",
    "\n",
    "This data is VERY sparse, and I should have realized that would have a heavy impact on how it does.  See my final histogram below to confirm this.  The number of\n",
    "athletes with 1-3 total events is very large.\n",
    "\n",
    "For further improvements, I think I would separate the data set by race type, and make a recommender specifically for Ironman races.  \n",
    "\n",
    "Perhaps a smaller and less sparse data set would let me experiment more with different models as well."
   ],
   "id": "e0c317500e782dea"
  },
  {
   "metadata": {
    "ExecuteTime": {
     "end_time": "2024-06-23T01:15:50.582370Z",
     "start_time": "2024-06-23T01:15:49.661148Z"
    }
   },
   "cell_type": "code",
   "source": [
    "athlete_event_counts = merged_df.groupby('person_id').size().reset_index(name='total_events')\n",
    "\n",
    "# Display the first few rows to verify\n",
    "print(athlete_event_counts.head())"
   ],
   "id": "6941c15f5d5db022",
   "outputs": [
    {
     "name": "stdout",
     "output_type": "stream",
     "text": [
      "   person_id  total_events\n",
      "0          0             3\n",
      "1          1            21\n",
      "2          2             2\n",
      "3          3             1\n",
      "4          4             7\n"
     ]
    }
   ],
   "execution_count": 52
  },
  {
   "metadata": {
    "ExecuteTime": {
     "end_time": "2024-06-23T02:10:26.124059Z",
     "start_time": "2024-06-23T02:10:25.874583Z"
    }
   },
   "cell_type": "code",
   "source": [
    "# Create the histogram\n",
    "plt.figure(figsize=(10, 6))\n",
    "plt.hist(athlete_event_counts['total_events'], bins=range(1, athlete_event_counts['total_events'].max() + 2), edgecolor='black')\n",
    "plt.title('Number of Athletes by Total Event Participation')\n",
    "plt.xlabel('Total Events Participated')\n",
    "plt.ylabel('Number of Athletes')\n",
    "#plt.yscale('log')  # Uses logarithmic scale for better visualization \n",
    "plt.grid(True)\n",
    "plt.show()"
   ],
   "id": "efb52d57f863b292",
   "outputs": [
    {
     "data": {
      "text/plain": [
       "<Figure size 1000x600 with 1 Axes>"
      ],
      "image/png": "[encoded data removed]"
     },
     "metadata": {},
     "output_type": "display_data"
    }
   ],
   "execution_count": 56
  },
  {
   "metadata": {},
   "cell_type": "code",
   "outputs": [],
   "execution_count": null,
   "source": "",
   "id": "15e9bfd5a29d4290"
  }
 ]
}
